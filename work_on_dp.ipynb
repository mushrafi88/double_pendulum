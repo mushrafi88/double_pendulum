{
 "cells": [
  {
   "cell_type": "code",
   "execution_count": 1,
   "metadata": {},
   "outputs": [],
   "source": [
    "    m1  = 1.0              \n",
    "    m2  = 1.0\n",
    "    l1  = 10.0             \n",
    "    l2  = 10.0\n",
    "    g   = 9.81              \n",
    "    dt  = 0.01            \n",
    "    M   = m2 / (m1+m2) \n",
    "    l   = l1/l2    \n",
    "    dx  = dt/5\n",
    "    R   = 1                    #radius of bob\n",
    "    r   = 0.1\n",
    "    pi  = 3.141592653589793238"
   ]
  },
  {
   "cell_type": "code",
   "execution_count": 2,
   "metadata": {},
   "outputs": [],
   "source": [
    "from math import * \n",
    "from numpy import *\n",
    "from pandas import *"
   ]
  },
  {
   "cell_type": "code",
   "execution_count": 3,
   "metadata": {},
   "outputs": [],
   "source": [
    "def alpha1(ang_1, ang_2):\n",
    "    return (1/l)*M*cos(ang_1-ang_2)\n",
    "def alpha2(ang_1, ang_2):\n",
    "    return l*cos(ang_1-ang_2)\n",
    "def f1(ang_1, ang_2, w1, w2):\n",
    "    return (-1/l)*M*(w2**2)*sin(ang_1-ang_2)-(g/l1)*sin(ang_1)\n",
    "def f2(ang_1, ang_2, w1, w2):\n",
    "    return l*(w1**2)*sin(ang_1-ang_2)-(g/l2)*sin(ang_2)\n",
    "\n",
    "def g1(ang_1, ang_2, w1, w2):\n",
    "    return w1      \n",
    "def g2(ang_1, ang_2, w1, w2):\n",
    "    return w2   \n",
    "def g3(ang_1, ang_2, w1, w2):\n",
    "    return (f1(ang_1, ang_2, w1, w2)-alpha1(ang_1, ang_2)*f2(ang_1, ang_2, w1, w2))/(1-alpha1(ang_1, ang_2)*alpha2(ang_1, ang_2))\n",
    "def g4(ang_1, ang_2, w1, w2):\n",
    "    return (f2(ang_1, ang_2, w1, w2)-f1(ang_1, ang_2, w1, w2)*alpha2(ang_1, ang_2))/(1-alpha1(ang_1, ang_2)*alpha2(ang_1, ang_2))\n",
    "   "
   ]
  },
  {
   "cell_type": "code",
   "execution_count": 4,
   "metadata": {},
   "outputs": [],
   "source": [
    "    # Initial Value\n",
    "    x1 = pi/2         # theta1\n",
    "    x2 = pi/2         # theta2\n",
    "    x3 = 0.0              # w1i\n",
    "    x4 = 0.0              # w2i\n",
    "    t  = 0.0              # time\n",
    "    y1 = [x1]\n",
    "    y2 = [x2]\n",
    "    y3 = [x3]\n",
    "    y4 = [x4]"
   ]
  },
  {
   "cell_type": "code",
   "execution_count": 5,
   "metadata": {},
   "outputs": [],
   "source": [
    "for x in range(1,1000):\n",
    "    # Calculate using Runge-Kutta 4th\n",
    "        t = t + dt\n",
    "        k11 = g1(x1, x2, x3, x4)\n",
    "        k12 = g2(x1, x2, x3, x4)\n",
    "        k13 = g3(x1, x2, x3, x4)\n",
    "        k14 = g4(x1, x2, x3, x4)\n",
    "        k21 = g1(x1+dt/2*k11, x2+dt/2*k12, x3+dt/2*k13, x4+dt/2*k14 )\n",
    "        k22 = g2(x1+dt/2*k11, x2+dt/2*k12, x3+dt/2*k13, x4+dt/2*k14 )\n",
    "        k23 = g3(x1+dt/2*k11, x2+dt/2*k12, x3+dt/2*k13, x4+dt/2*k14 )\n",
    "        k24 = g4(x1+dt/2*k11, x2+dt/2*k12, x3+dt/2*k13, x4+dt/2*k14 )\n",
    "        k31 = g1(x1+dt/2*k21, x2+dt/2*k22, x3+dt/2*k23, x4+dt/2*k24 )\n",
    "        k32 = g2(x1+dt/2*k21, x2+dt/2*k22, x3+dt/2*k23, x4+dt/2*k24 )\n",
    "        k33 = g3(x1+dt/2*k21, x2+dt/2*k22, x3+dt/2*k23, x4+dt/2*k24 )\n",
    "        k34 = g4(x1+dt/2*k21, x2+dt/2*k22, x3+dt/2*k23, x4+dt/2*k24 )\n",
    "        k41 = g1(x1+dt*k31,  x2+dt*k32,  x3+dt*k33,  x4+dt*k34 )\n",
    "        k42 = g2(x1+dt*k31,  x2+dt*k32,  x3+dt*k33,  x4+dt*k34 )\n",
    "        k43 = g3(x1+dt*k31,  x2+dt*k32,  x3+dt*k33,  x4+dt*k34 )\n",
    "        k44 = g4(x1+dt*k31,  x2+dt*k32,  x3+dt*k33,  x4+dt*k34 )\n",
    "        \n",
    "        # Update angle and angular velocity\n",
    "        x1 = x1 + dx * (k11 + 2*k21 + 2*k31 + k41)\n",
    "        y1.append(x1)\n",
    "        x2 = x2 + dx * (k12 + 2*k22 + 2*k32 + k42)\n",
    "        y2.append(x2)\n",
    "        x3 = x3 + dx * (k13 + 2*k23 + 2*k33 + k43)\n",
    "        y3.append(x3)\n",
    "        x4 = x4 + dx * (k14 + 2*k24 + 2*k34 + k44)\n",
    "        y4.append(x4)"
   ]
  },
  {
   "cell_type": "code",
   "execution_count": 6,
   "metadata": {},
   "outputs": [
    {
     "data": {
      "text/plain": [
       "<zip at 0x7ff9f9ca00c0>"
      ]
     },
     "execution_count": 6,
     "metadata": {},
     "output_type": "execute_result"
    }
   ],
   "source": [
    "zip(y1,y2)"
   ]
  },
  {
   "cell_type": "code",
   "execution_count": 7,
   "metadata": {},
   "outputs": [],
   "source": [
    "col_format = \"{:<25}\" * 2 + \"\\n\"   \n",
    "with open(\"angle.csv\", 'w') as of:\n",
    "    for x in zip(y1, y2):\n",
    "        of.write(col_format.format(*x))        "
   ]
  },
  {
   "cell_type": "code",
   "execution_count": 8,
   "metadata": {},
   "outputs": [],
   "source": [
    "import pandas as pd\n",
    "a = pd.Series(y1)\n",
    "p1x = l1*sin(a)\n",
    "b = pd.Series(y2)\n",
    "p1y = -l1*cos(a)\n",
    "p2x = l1*sin(a)+l2*sin(b)\n",
    "p2y = -(l1*cos(a)+l2*cos(b))"
   ]
  },
  {
   "cell_type": "code",
   "execution_count": 9,
   "metadata": {},
   "outputs": [
    {
     "data": {
      "text/plain": [
       "<zip at 0x7ff9f96db040>"
      ]
     },
     "execution_count": 9,
     "metadata": {},
     "output_type": "execute_result"
    }
   ],
   "source": [
    "zip(p1x,p1y,p2x,p2y)"
   ]
  },
  {
   "cell_type": "code",
   "execution_count": 10,
   "metadata": {},
   "outputs": [],
   "source": [
    "col_format = \"{:<25}\" * 4 + \"\\n\"  \n",
    "\n",
    "with open(\"pos.csv\", 'w') as of:\n",
    "    for x in zip(p1x, p1y ,p2x, p2y):\n",
    "        of.write(col_format.format(*x))        "
   ]
  }
 ],
 "metadata": {
  "kernelspec": {
   "display_name": "Python 3",
   "language": "python",
   "name": "python3"
  },
  "language_info": {
   "codemirror_mode": {
    "name": "ipython",
    "version": 3
   },
   "file_extension": ".py",
   "mimetype": "text/x-python",
   "name": "python",
   "nbconvert_exporter": "python",
   "pygments_lexer": "ipython3",
   "version": "3.8.2"
  }
 },
 "nbformat": 4,
 "nbformat_minor": 4
}
